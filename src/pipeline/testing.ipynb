{
 "metadata": {
  "language_info": {
   "codemirror_mode": {
    "name": "ipython",
    "version": 3
   },
   "file_extension": ".py",
   "mimetype": "text/x-python",
   "name": "python",
   "nbconvert_exporter": "python",
   "pygments_lexer": "ipython3",
   "version": "3.8.3-final"
  },
  "orig_nbformat": 2,
  "kernelspec": {
   "name": "python38364bitptxmlctransformerconda0119e8859be74bcf97d8300e76407f85",
   "display_name": "Python 3.8.3 64-bit ('pt_xmlc_transformer': conda)"
  }
 },
 "nbformat": 4,
 "nbformat_minor": 2,
 "cells": [
  {
   "cell_type": "code",
   "execution_count": 1,
   "metadata": {},
   "outputs": [],
   "source": [
    "import numpy as np\n",
    "import pandas as pd\n",
    "import scanpy as sc\n",
    "\n",
    "import anndata\n",
    "from tqdm import tqdm\n",
    "from loguru import logger\n",
    "from helpers.paths import RAW_DATA_FP, DATA_SPLIT_FPS,PREPROC_DATA_FP\n"
   ]
  },
  {
   "cell_type": "code",
   "execution_count": 2,
   "metadata": {},
   "outputs": [],
   "source": [
    "adata = sc.read('/Users/simon/GitHub/02-712-project/data/raw/Single_cell_atlas_of_peripheral_immune_response_to_SARS_CoV_2_infection.h5ad')"
   ]
  },
  {
   "cell_type": "code",
   "execution_count": 3,
   "metadata": {},
   "outputs": [
    {
     "output_type": "execute_result",
     "data": {
      "text/plain": [
       "AnnData object with n_obs × n_vars = 44721 × 26361\n",
       "    obs: 'Admission', 'ClusterID', 'DPS', 'DTF', 'Donor_full', 'HLA1', 'IFN1', 'Sex', 'Status', 'Ventilated', 'cell_type_coarse', 'cell_type_fine', 'nCount_RNA', 'nCount_SCT', 'nFeature_RNA', 'nFeature_SCT', 'percent_mt', 'percent_rpl', 'percent_rps', 'percent_rrna', 'seurat_clusters', 'singler'\n",
       "    var: 'Selected', 'sct_detection_rate', 'sct_gmean', 'sct_residual_mean', 'sct_residual_variance', 'sct_variable', 'sct_variance'\n",
       "    uns: 'assay', 'authors', 'disease', 'organism', 'preprint', 'short_name', 'tissue'\n",
       "    obsm: 'X_pca', 'X_umap'\n",
       "    varm: 'pca_feature_loadings'\n",
       "    layers: 'matrix', 'norm_data', 'scale_data'"
      ]
     },
     "metadata": {},
     "execution_count": 3
    }
   ],
   "source": [
    "adata"
   ]
  },
  {
   "cell_type": "code",
   "execution_count": 4,
   "metadata": {},
   "outputs": [],
   "source": [
    "adata.write('/Users/simon/GitHub/02-712-project/data/intermediate/test_out.h5ad')"
   ]
  },
  {
   "cell_type": "code",
   "execution_count": 6,
   "metadata": {},
   "outputs": [
    {
     "output_type": "stream",
     "name": "stderr",
     "text": [
      "2020-11-21 10:31:45.255 | INFO     | __main__:<module>:1 - Computing QC metrics for ingested data...\n"
     ]
    }
   ],
   "source": [
    "\n",
    "logger.info('Computing QC metrics for ingested data...')\n",
    "sc.pp.calculate_qc_metrics(adata, inplace=True)"
   ]
  },
  {
   "cell_type": "code",
   "execution_count": 7,
   "metadata": {},
   "outputs": [
    {
     "output_type": "execute_result",
     "data": {
      "text/plain": [
       "AnnData object with n_obs × n_vars = 44721 × 26361\n",
       "    obs: 'Admission', 'ClusterID', 'DPS', 'DTF', 'Donor_full', 'HLA1', 'IFN1', 'Sex', 'Status', 'Ventilated', 'cell_type_coarse', 'cell_type_fine', 'nCount_RNA', 'nCount_SCT', 'nFeature_RNA', 'nFeature_SCT', 'percent_mt', 'percent_rpl', 'percent_rps', 'percent_rrna', 'seurat_clusters', 'singler', 'n_genes_by_counts', 'log1p_n_genes_by_counts', 'total_counts', 'log1p_total_counts', 'pct_counts_in_top_50_genes', 'pct_counts_in_top_100_genes', 'pct_counts_in_top_200_genes', 'pct_counts_in_top_500_genes'\n",
       "    var: 'Selected', 'sct_detection_rate', 'sct_gmean', 'sct_residual_mean', 'sct_residual_variance', 'sct_variable', 'sct_variance', 'n_cells_by_counts', 'mean_counts', 'log1p_mean_counts', 'pct_dropout_by_counts', 'total_counts', 'log1p_total_counts'\n",
       "    uns: 'assay', 'authors', 'disease', 'organism', 'preprint', 'short_name', 'tissue'\n",
       "    obsm: 'X_pca', 'X_umap'\n",
       "    varm: 'pca_feature_loadings'\n",
       "    layers: 'matrix', 'norm_data', 'scale_data'"
      ]
     },
     "metadata": {},
     "execution_count": 7
    }
   ],
   "source": [
    "adata"
   ]
  },
  {
   "cell_type": "code",
   "execution_count": 8,
   "metadata": {},
   "outputs": [],
   "source": [
    "sc.pp.normalize_total(adata, target_sum=1e4)"
   ]
  },
  {
   "cell_type": "code",
   "execution_count": 9,
   "metadata": {},
   "outputs": [],
   "source": [
    "sc.pp.log1p(adata)"
   ]
  },
  {
   "cell_type": "code",
   "execution_count": 10,
   "metadata": {},
   "outputs": [
    {
     "output_type": "stream",
     "name": "stderr",
     "text": [
      "2020-11-21 10:32:30.658 | INFO     | __main__:<module>:2 - Identified highly variate genes. Filtering out...\n"
     ]
    }
   ],
   "source": [
    "\n",
    "sc.pp.highly_variable_genes(adata, min_mean=0.0125, max_mean=3, min_disp=0.5)\n",
    "logger.info('Identified highly variate genes. Filtering out...')\n"
   ]
  },
  {
   "cell_type": "code",
   "execution_count": 11,
   "metadata": {},
   "outputs": [
    {
     "output_type": "stream",
     "name": "stderr",
     "text": [
      "2020-11-21 10:32:33.682 | INFO     | __main__:<module>:2 - Regressing out effects of percentage of mitochondrial genes expressed\n"
     ]
    }
   ],
   "source": [
    "\n",
    "adata = adata[:, adata.var.highly_variable]\n",
    "logger.info('Regressing out effects of percentage of mitochondrial genes expressed')"
   ]
  },
  {
   "cell_type": "code",
   "execution_count": 14,
   "metadata": {},
   "outputs": [
    {
     "output_type": "stream",
     "name": "stderr",
     "text": [
      "2020-11-21 10:36:48.110 | INFO     | __main__:<module>:2 - Scaling the data to unit variance, excluding values exceeding standard dev of 10.\n"
     ]
    }
   ],
   "source": [
    "sc.pp.regress_out(adata, ['total_counts','percent_mt'])\n",
    "logger.info('Scaling the data to unit variance, excluding values exceeding standard dev of 10.')\n",
    "sc.pp.scale(adata,max_value=10)"
   ]
  },
  {
   "cell_type": "code",
   "execution_count": null,
   "metadata": {},
   "outputs": [],
   "source": []
  }
 ]
}