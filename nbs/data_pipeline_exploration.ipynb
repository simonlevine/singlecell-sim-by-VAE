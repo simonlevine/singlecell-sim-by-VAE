{
 "cells": [
  {
   "cell_type": "code",
   "execution_count": 1,
   "metadata": {},
   "outputs": [],
   "source": [
    "import scanpy as sc\n",
    "import pandas as pd\n",
    "import pytorch_lightning as pl"
   ]
  },
  {
   "cell_type": "code",
   "execution_count": 2,
   "metadata": {},
   "outputs": [],
   "source": [
    "scdata = sc.read_h5ad(\"data/raw/HCL_final_USE.h5ad\")"
   ]
  },
  {
   "cell_type": "code",
   "execution_count": 5,
   "metadata": {},
   "outputs": [],
   "source": [
    "class SingleCellDataset:\n",
    "    def __init__(self, fp):\n",
    "        self.df = pd.read_json(fp)\n",
    "        self.genes = [c for c in df.columns.tolist() if c ]\n",
    "        \n",
    "    def __len__(self):\n",
    "        return len(self.X)\n",
    "    \n",
    "    def __getitem__(self, idx):\n",
    "        gene_expression, cell_type = self.X[idx,:]\n",
    "        return gene_expression, cell_type\n",
    "    \n",
    "    @property\n",
    "    def X(self):\n",
    "        return self.df[self.genes].values()\n",
    "    \n",
    "    @property\n",
    "    def y(self):\n",
    "        return self.df[\"tissue\"]"
   ]
  },
  {
   "cell_type": "code",
   "execution_count": 6,
   "metadata": {},
   "outputs": [],
   "source": [
    "class SingleCellDataModule(pl.LightningDataModule):\n",
    "    def __init__(self, train_fp, test_fp, val_fp, batch_size):\n",
    "        super().__init__()\n",
    "        self.train_fp = train_fp\n",
    "        self.test_fp = test_fp\n",
    "        self.val_fp = val_fp\n",
    "        self.batch_size = batch_size\n",
    "\n",
    "    def setup(self, stage=None):\n",
    "        self.train_dataset = SingleCellDataset(self.train_fp)\n",
    "        self.test_dataset = SingleCellDataset(self.test_fp)\n",
    "        self.val_dataset = SingleCellDataset(self.val_fp)\n",
    "\n",
    "    def train_dataloader(self):\n",
    "        return DataLoader(self.train_dataset, batch_size=self.batch_size)\n",
    "\n",
    "    def val_dataloader(self):\n",
    "        return DataLoader(self.val_dataset, batch_size=self.batch_size)\n",
    "\n",
    "    def test_dataloader(self):\n",
    "        return DataLoader(self.test_dataset, batch_size=self.batch_size)"
   ]
  },
  {
   "cell_type": "code",
   "execution_count": null,
   "metadata": {},
   "outputs": [],
   "source": [
    "genes = [m.decode() for m in scdata.var.index.tolist()]\n",
    "genes[:10]"
   ]
  },
  {
   "cell_type": "code",
   "execution_count": null,
   "metadata": {},
   "outputs": [],
   "source": [
    "tissues = [m.decode() for m in scdata.obs.tissue.tolist()]\n",
    "tissues[:10]"
   ]
  },
  {
   "cell_type": "code",
   "execution_count": null,
   "metadata": {},
   "outputs": [],
   "source": [
    "df = pd.DataFrame(data=scdata.X, columns=genes).assign(tissue=tissues)"
   ]
  },
  {
   "cell_type": "code",
   "execution_count": null,
   "metadata": {},
   "outputs": [],
   "source": [
    "df.to_json(\"data/intermediate/train.json.gz\")"
   ]
  },
  {
   "cell_type": "code",
   "execution_count": null,
   "metadata": {},
   "outputs": [],
   "source": []
  }
 ],
 "metadata": {
  "kernelspec": {
   "display_name": "scanpy",
   "language": "python",
   "name": "scanpy"
  },
  "language_info": {
   "codemirror_mode": {
    "name": "ipython",
    "version": 3
   },
   "file_extension": ".py",
   "mimetype": "text/x-python",
   "name": "python",
   "nbconvert_exporter": "python",
   "pygments_lexer": "ipython3",
   "version": "3.8.5"
  }
 },
 "nbformat": 4,
 "nbformat_minor": 4
}
