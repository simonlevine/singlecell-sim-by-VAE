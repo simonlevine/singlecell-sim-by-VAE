{
 "cells": [
  {
   "cell_type": "code",
   "execution_count": 1,
   "metadata": {},
   "outputs": [],
   "source": [
    "import scanpy as sc\n",
    "import pandas as pd\n",
    "import pytorch_lightning as pl"
   ]
  },
  {
   "cell_type": "code",
   "execution_count": 2,
   "metadata": {},
   "outputs": [],
   "source": [
    "scdata = sc.read_h5ad(\"../data/raw/HCL_final_USE.h5ad\", backed=\"r\")\n",
    "n, _ = scdata.shape"
   ]
  },
  {
   "cell_type": "code",
   "execution_count": 3,
   "metadata": {},
   "outputs": [],
   "source": [
    "i1 = int(n * 0.8)\n",
    "i2 = int(n * 0.9)"
   ]
  },
  {
   "cell_type": "code",
   "execution_count": null,
   "metadata": {},
   "outputs": [
    {
     "name": "stderr",
     "output_type": "stream",
     "text": [
      "/Users/jeremyfisher/miniconda3/envs/scanpy/lib/python3.8/site-packages/anndata/_core/anndata.py:1094: FutureWarning: is_categorical is deprecated and will be removed in a future version.  Use is_categorical_dtype instead\n",
      "  if not is_categorical(df_full[k]):\n"
     ]
    }
   ],
   "source": [
    "for split_type, i, j in [(\"train\", None, i1),\n",
    "                         (\"test\", i1, i2),\n",
    "                         (\"val\", i2, None)]:\n",
    "    scdata[i:j,:].write_h5ad(f\"hcl_{split_type}_data.h5ad\")"
   ]
  },
  {
   "cell_type": "code",
   "execution_count": 4,
   "metadata": {},
   "outputs": [],
   "source": [
    "scdata = sc.read_h5ad(\"/Users/jeremyfisher/Desktop/02-712-project/data/intermediate/hcl_val_data.h5ad\", backed=\"r\")"
   ]
  },
  {
   "cell_type": "code",
   "execution_count": 5,
   "metadata": {},
   "outputs": [
    {
     "data": {
      "text/plain": [
       "(479941, 3113)"
      ]
     },
     "execution_count": 5,
     "metadata": {},
     "output_type": "execute_result"
    }
   ],
   "source": [
    "scdata.shape"
   ]
  },
  {
   "cell_type": "code",
   "execution_count": null,
   "metadata": {},
   "outputs": [],
   "source": [
    "class SingleCellDataset:\n",
    "    def __init__(self, anndata_fp):\n",
    "        self.annotations = sc.read_h5ad(anndata_fp)\n",
    "        self.genes = [str(gene) for gene in scdata.var_names.tolist()]\n",
    "        \n",
    "    def __len__(self):\n",
    "        n, _ = self.annotations.shape\n",
    "        return n\n",
    "    \n",
    "    def __getitem__(self, idx):\n",
    "        gene_expression = self.annotations.X[idx,:]\n",
    "        cell_type = str(self.annotations.obs.tissue)\n",
    "        return gene_expression, cell_type\n",
    "    \n",
    "    @property\n",
    "    def X(self):\n",
    "        return self.annotations.X\n",
    "    \n",
    "    @property\n",
    "    def y(self):\n",
    "        return self.obs.tissue"
   ]
  },
  {
   "cell_type": "code",
   "execution_count": null,
   "metadata": {},
   "outputs": [],
   "source": [
    "class SingleCellDataModule(pl.LightningDataModule):\n",
    "    def __init__(self, train_fp, test_fp, val_fp, batch_size):\n",
    "        super().__init__()\n",
    "        self.train_fp = train_fp\n",
    "        self.test_fp = test_fp\n",
    "        self.val_fp = val_fp\n",
    "        self.batch_size = batch_size\n",
    "\n",
    "    def setup(self, stage=None):\n",
    "        self.train_dataset = SingleCellDataset(self.train_fp)\n",
    "        self.test_dataset = SingleCellDataset(self.test_fp)\n",
    "        self.val_dataset = SingleCellDataset(self.val_fp)\n",
    "\n",
    "    def train_dataloader(self):\n",
    "        return DataLoader(self.train_dataset, batch_size=self.batch_size)\n",
    "\n",
    "    def val_dataloader(self):\n",
    "        return DataLoader(self.val_dataset, batch_size=self.batch_size)\n",
    "\n",
    "    def test_dataloader(self):\n",
    "        return DataLoader(self.test_dataset, batch_size=self.batch_size)"
   ]
  },
  {
   "cell_type": "code",
   "execution_count": null,
   "metadata": {},
   "outputs": [],
   "source": []
  }
 ],
 "metadata": {
  "kernelspec": {
   "display_name": "scanpy",
   "language": "python",
   "name": "scanpy"
  },
  "language_info": {
   "codemirror_mode": {
    "name": "ipython",
    "version": 3
   },
   "file_extension": ".py",
   "mimetype": "text/x-python",
   "name": "python",
   "nbconvert_exporter": "python",
   "pygments_lexer": "ipython3",
   "version": "3.8.5"
  }
 },
 "nbformat": 4,
 "nbformat_minor": 4
}
